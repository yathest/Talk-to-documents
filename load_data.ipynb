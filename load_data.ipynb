{
 "cells": [
  {
   "cell_type": "code",
   "execution_count": 1,
   "id": "509aee3a-dcd1-42fa-bbed-f6c8bd057373",
   "metadata": {},
   "outputs": [],
   "source": [
    "from pymongo import MongoClient\n",
    "from langchain.vectorstores import MongoDBAtlasVectorSearch\n",
    "from langchain.document_loaders import DirectoryLoader\n",
    "import key_param\n",
    "from langchain_google_genai import ChatGoogleGenerativeAI\n",
    "import getpass\n",
    "import os\n",
    "\n",
    "if \"GOOGLE_API_KEY\" not in os.environ:\n",
    "    os.environ[\"GOOGLE_API_KEY\"] =  key_param.GEMINI_API_KEY #getpass.getpass(\"Enter your Google AI API key: \")"
   ]
  },
  {
   "cell_type": "code",
   "execution_count": 2,
   "id": "5c7c7616-9403-4e67-887f-7f47c25b3d08",
   "metadata": {},
   "outputs": [
    {
     "name": "stderr",
     "output_type": "stream",
     "text": [
      "100%|████████████████████████████████████████████████████████████████████████████████████| 3/3 [00:07<00:00,  2.55s/it]\n"
     ]
    }
   ],
   "source": [
    "client = MongoClient(key_param.MONGO_URI)\n",
    "dbName = \"langchain_demo\"\n",
    "collectionName = \"collection_of_text_blobs\"\n",
    "collection = client[dbName][collectionName]\n",
    "\n",
    "loader = DirectoryLoader( './sample_files', glob=\"./*.txt\", show_progress=True)\n",
    "data = loader.load()"
   ]
  },
  {
   "cell_type": "code",
   "execution_count": 3,
   "id": "b7361360-2561-4932-b9d3-c2fddb84b3f5",
   "metadata": {},
   "outputs": [],
   "source": [
    "from langchain_google_genai import GoogleGenerativeAIEmbeddings\n",
    "\n",
    "embeddings = GoogleGenerativeAIEmbeddings(\n",
    "    model=\"models/embedding-001\", task_type=\"retrieval_document\"\n",
    ")"
   ]
  },
  {
   "cell_type": "code",
   "execution_count": 4,
   "id": "72b325ea-f782-4ad0-90c9-1cedcd9055de",
   "metadata": {},
   "outputs": [
    {
     "name": "stderr",
     "output_type": "stream",
     "text": [
      "C:\\Users\\sahil\\AppData\\Local\\Temp\\ipykernel_22500\\3531328563.py:1: LangChainDeprecationWarning: The class `MongoDBAtlasVectorSearch` was deprecated in LangChain 0.0.25 and will be removed in 1.0. An updated version of the class exists in the :class:`~langchain-mongodb package and should be used instead. To use it run `pip install -U :class:`~langchain-mongodb` and import as `from :class:`~langchain_mongodb import MongoDBAtlasVectorSearch``.\n",
      "  vectorStore = MongoDBAtlasVectorSearch(embedding = embeddings,index_name = \"sahil\", collection=collection )\n"
     ]
    },
    {
     "data": {
      "text/plain": [
       "[ObjectId('66fb09c9846aa8a2839b42d9'),\n",
       " ObjectId('66fb09c9846aa8a2839b42da'),\n",
       " ObjectId('66fb09c9846aa8a2839b42db')]"
      ]
     },
     "execution_count": 4,
     "metadata": {},
     "output_type": "execute_result"
    }
   ],
   "source": [
    "vectorStore = MongoDBAtlasVectorSearch(embedding = embeddings,index_name = \"sahil\", collection=collection )\n",
    "vectorStore.add_documents(data)"
   ]
  }
 ],
 "metadata": {
  "kernelspec": {
   "display_name": "Python 3 (ipykernel)",
   "language": "python",
   "name": "python3"
  },
  "language_info": {
   "codemirror_mode": {
    "name": "ipython",
    "version": 3
   },
   "file_extension": ".py",
   "mimetype": "text/x-python",
   "name": "python",
   "nbconvert_exporter": "python",
   "pygments_lexer": "ipython3",
   "version": "3.12.4"
  }
 },
 "nbformat": 4,
 "nbformat_minor": 5
}
